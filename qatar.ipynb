{
 "cells": [
  {
   "cell_type": "code",
   "execution_count": 7,
   "id": "5b224cf4-e8d2-4fb6-8ba3-a9a3cf7eb0d3",
   "metadata": {
    "tags": []
   },
   "outputs": [
    {
     "data": {
      "text/plain": [
       "'20221104185812'"
      ]
     },
     "execution_count": 7,
     "metadata": {},
     "output_type": "execute_result"
    }
   ],
   "source": [
    "import requests\n",
    "import pandas as pd\n",
    "from tqdm import tqdm\n",
    "\n",
    "\n",
    "from datetime import datetime\n",
    "import logging\n",
    "dateTimeObj = datetime.now()\n",
    "timestampStr = dateTimeObj.strftime(\"%Y%m%d%H%M%S\")\n",
    "logging.basicConfig(filename=f'scrapping_log/qatar_scrapping{timestampStr}.log',  level=logging.DEBUG,\n",
    "    format='%(asctime)s %(message)s', datefmt='%m/%d/%Y %I:%M:%S %p')\n",
    "timestampStr\n",
    "logging.info(f'INITIALISING ..... {timestampStr} .....')\n",
    "\n",
    "FOLDER = 'dataset'\n",
    "\n",
    "import pandas as pd\n",
    "import seaborn as sns\n",
    "import matplotlib.pyplot as plt\n",
    "\n",
    "from tqdm import tqdm\n",
    "from sklearn.metrics import accuracy_score\n",
    "\n",
    "\n",
    "import numpy as np\n",
    "from sklearn.model_selection import train_test_split\n",
    "\n",
    "from sklearn.svm import SVC\n",
    "from sklearn.preprocessing import StandardScaler\n",
    "from sklearn.model_selection import train_test_split, GridSearchCV\n",
    "from sklearn.tree import DecisionTreeClassifier\n",
    "from sklearn.linear_model import LogisticRegression\n",
    "\n",
    "from sklearn.ensemble import BaggingClassifier\n",
    "from sklearn.tree import ExtraTreeClassifier\n",
    "from sklearn.pipeline import Pipeline\n",
    "\n",
    "import joblib\n",
    "\n",
    "import predictgame as pg\n",
    "import fifa as fifa\n",
    "import odds as odds\n",
    "from worldcuptransformers import CustomTransformer\n",
    "\n",
    "import random\n",
    "import warnings\n",
    "warnings.simplefilter(action='ignore', category=FutureWarning)\n",
    "warnings.simplefilter(\"ignore\", UserWarning)\n",
    "\n",
    "\n",
    "from datetime import datetime\n",
    "import logging\n",
    "dateTimeObj = datetime.now()\n",
    "timestampStr = dateTimeObj.strftime(\"%Y%m%d%H%M%S\")\n",
    "logging.basicConfig(filename=f'compute_wc_log/compute-{timestampStr}.log',  level=logging.DEBUG,\n",
    "    format='%(message)s', datefmt='%m/%d/%Y %I:%M:%S %p')\n",
    "timestampStr"
   ]
  },
  {
   "cell_type": "code",
   "execution_count": 8,
   "id": "d00f5c58-4ba1-4296-89dc-4640e2c43fc5",
   "metadata": {},
   "outputs": [
    {
     "data": {
      "text/plain": [
       "78"
      ]
     },
     "execution_count": 8,
     "metadata": {},
     "output_type": "execute_result"
    }
   ],
   "source": [
    "fifa = fifa.Fifa()\n",
    "fifa.get_last_rank('Georgia')"
   ]
  },
  {
   "cell_type": "code",
   "execution_count": 9,
   "id": "bdb891ef-9fe9-4832-b3bf-cccf2e76c8c5",
   "metadata": {},
   "outputs": [
    {
     "data": {
      "text/plain": [
       "87.3076923076923"
      ]
     },
     "execution_count": 9,
     "metadata": {},
     "output_type": "execute_result"
    }
   ],
   "source": [
    "fifa.get_avg_rank(team='Georgia', since='2021-01-01')"
   ]
  },
  {
   "cell_type": "code",
   "execution_count": 13,
   "id": "500dec8f-416e-4753-932b-c4cc6142213a",
   "metadata": {},
   "outputs": [
    {
     "data": {
      "text/plain": [
       "(1.3036642195767196, 2.081262896825397, 3.1041304894179893)"
      ]
     },
     "execution_count": 13,
     "metadata": {},
     "output_type": "execute_result"
    }
   ],
   "source": [
    "o = odds.Bets()\n",
    "o.get_odds('Iraq','Brazil')"
   ]
  },
  {
   "cell_type": "code",
   "execution_count": null,
   "id": "b455be03-3e6f-4d5f-bbba-571bd496b8f1",
   "metadata": {},
   "outputs": [],
   "source": [
    "\n",
    "!pip install beautifulsoup4"
   ]
  },
  {
   "cell_type": "code",
   "execution_count": null,
   "id": "f853aa19-9f01-4dc0-8334-1c010960fcde",
   "metadata": {},
   "outputs": [],
   "source": [
    "import bs4 as BeautifulSoup\n",
    "from bs4 import BeautifulSoup"
   ]
  },
  {
   "cell_type": "code",
   "execution_count": null,
   "id": "82ffe8b6-dfff-4b91-a891-3eb51ca9dfb1",
   "metadata": {},
   "outputs": [],
   "source": [
    "wcs= ['https://www.betexplorer.com/soccer/world/world-cup-2022/']\n",
    "group_stage = []\n",
    "\n",
    "# https://www.betexplorer.com/soccer/world/friendly-international-2013/results/?month=2013-02\n",
    "urls = []\n",
    "games_bets_rows = []\n",
    "for wc in tqdm(wcs):\n",
    "    url = wc\n",
    "    print(wc)\n",
    "    #try:\n",
    "    page = requests.get(url)\n",
    "\n",
    "    content = page.content\n",
    "\n",
    "\n",
    "    soup = BeautifulSoup(page.content, 'html.parser')\n",
    "\n",
    "\n",
    "    tr_rows = soup.find_all('tr')\n",
    "    #logging.info(f'LEN TR_ROWS = {len(tr_rows)}')\n",
    "\n",
    "    ix = 0\n",
    "    for row in tr_rows:\n",
    "        #print(ix)\n",
    "        ix=ix+1\n",
    "        r = str(row)\n",
    "        #print(r)\n",
    "\n",
    "        if 'table-main__daysign' in r:\n",
    "            logging.info(r)\n",
    "            matchday = r.split('/soccer/world/world-cup-2022')[1]\n",
    "\n",
    "            temp = BeautifulSoup(r, 'html.parser')\n",
    "            spans = temp.find_all('span')\n",
    "            i=0\n",
    "            for span in spans:\n",
    "                if i < 2:\n",
    "\n",
    "                    s = str(span)\n",
    "                    s = s.replace('<','').replace('>','').replace('strong','').replace('span','').replace('/','')\n",
    "                    #logging.info(f'{s}')\n",
    "                    if i == 0:\n",
    "                        home_team=s\n",
    "                    else:\n",
    "                        away_team=s\n",
    "                    i=i+1\n",
    "\n",
    "\n",
    "            odds = temp.find_all('td', class_='table-main__odds')\n",
    "            input_tag = temp.find(\"td\", {\"name\":\"City\"})\n",
    "            odds_list=[]\n",
    "            valid_odds=False\n",
    "            for odd in odds:\n",
    "                o = str(odd).split('data-odd=')\n",
    "                #logging.info(o[1].split('\"')[1])\n",
    "                odds_list.append(o[1].split('\"')[1])\n",
    "                valid_odds=True\n",
    "                \n",
    "                \n",
    "            logging.info(f'{home_team} {away_team} {odds_list}')\n",
    "            group_stage.append([home_team,away_team,odds_list[0],odds_list[1],odds_list[2]])\n",
    "                \n",
    "\"\"\"\n",
    "            games = temp.find_all('td', class_='h-text-center')\n",
    "            \n",
    "            \n",
    "            for game in games:\n",
    "                gam= str(game)\n",
    "                #logging.info(gam)\n",
    "                # get the game + key\n",
    "                g = gam.split('href=\"')[1].split('\">')[0]\n",
    "                g = g.split('/')\n",
    "                g = f\"{g[1]}/{g[2]}/{g[3]}/{g[4]}-{g[5]}\"\n",
    "                # get game score\n",
    "                s = gam.split('</a')[0]\n",
    "                s = s.split('/\">')[1]\n",
    "                s = s.split(' ')[0]\n",
    "                if ':' in s:\n",
    "                    logging.info(s)\n",
    "                    correct_score=s\n",
    "                    game_entry=g\n",
    "                    game_url = url\n",
    "                    urls.append([g,url,s])\n",
    "            logging.info(matchday.split('<')[0])\n",
    "            matchday = matchday.split('<')[0]\n",
    "\n",
    "            if valid_odds:\n",
    "                games_bets_rows.append([game_entry, matchday, home_team, away_team, correct_score, odds_list[0], odds_list[1], odds_list[2], game_url ])\n",
    "\"\"\"\n",
    "\n",
    "    #except:\n",
    "    #    logging.info('no-game')\n",
    "    #    print('no Game')\n",
    "\n",
    "        \n",
    "df = pd.DataFrame(games_bets_rows)\n",
    "df.to_csv(f'data/urls_{timestampStr}.csv', index=False)\n",
    "df.to_csv(f'oddsportal_urls_{timestampStr}.csv')\n",
    "df.drop_duplicates()"
   ]
  },
  {
   "cell_type": "code",
   "execution_count": null,
   "id": "d1c39d9c-c886-4fc0-87df-4af1880927f7",
   "metadata": {},
   "outputs": [],
   "source": [
    "group_stage"
   ]
  },
  {
   "cell_type": "code",
   "execution_count": null,
   "id": "9d26fca7-747e-449a-b176-ce64e409584a",
   "metadata": {},
   "outputs": [],
   "source": [
    "games=pd.DataFrame(group_stage)\n",
    "games.columns = ['home_team','away_team','1N2_1','1N2_N','1N2_2']\n",
    "games['1N2_1']=pd.to_numeric(games['1N2_1'])\n",
    "games['1N2_N']=pd.to_numeric(games['1N2_N'])\n",
    "games['1N2_2']=pd.to_numeric(games['1N2_2'])\n",
    "games.dtypes"
   ]
  },
  {
   "cell_type": "code",
   "execution_count": null,
   "id": "959c37ba-0f91-4242-84c5-b5a3208ddb95",
   "metadata": {},
   "outputs": [],
   "source": [
    "games"
   ]
  },
  {
   "cell_type": "code",
   "execution_count": null,
   "id": "8fef1b98-b147-4f95-8332-4b9e6d037a1f",
   "metadata": {},
   "outputs": [],
   "source": [
    "stage = []\n",
    "for idx, game in tqdm(games.iterrows()):\n",
    "    #print(game.home_team, game.away_team)\n",
    "    home_fifa = fifa.get_last_rank(game.home_team)\n",
    "    away_fifa = fifa.get_last_rank(game.away_team)\n",
    "    payload=[game['1N2_1'],game['1N2_N'],game['1N2_2'],home_fifa,away_fifa,1,'2022-11-29',game.home_team,game.away_team,'-:-']\n",
    "    data ={}\n",
    "    data['game1']=payload\n",
    "    play=pd.DataFrame.from_dict(data).T\n",
    "    play.columns = ['1N2_1','1N2_N','1N2_2','home_team_rank_FIFA','away_team_rank_FIFA','season','matchday','home_team','away_team','correct_score']\n",
    "    #print(play)\n",
    "\n",
    "    g = pg.PredictGame(play)\n",
    "    p = g.predict()\n",
    "    t=p[0][0][7]\n",
    "    #print(f'Prediction= {p}')\n",
    "\n",
    "    result_proba_1N2=[]\n",
    "    result_proba_12=[]\n",
    "    rem = f'GAME {0+1} - {play.home_team.values[0]} Vs. {play.away_team.values[0]} - Prediction={p[0][0][4]}/{p[0][0][5]} = {np.int(p[0][0][8][0])}:{np.int(p[0][0][8][1])}'\n",
    "    stage.append([game.home_team,game.away_team,np.int(p[0][0][8][0]),np.int(p[0][0][8][1])])"
   ]
  },
  {
   "cell_type": "code",
   "execution_count": null,
   "id": "7353d6db-96cb-4af9-9867-10de8b04ee45",
   "metadata": {},
   "outputs": [],
   "source": [
    "stage"
   ]
  },
  {
   "cell_type": "code",
   "execution_count": null,
   "id": "30ac493c-99ef-4bb0-bcfe-20a26aea7091",
   "metadata": {},
   "outputs": [],
   "source": [
    "pred=pd.DataFrame(stage)\n",
    "pred.columns = ['home_team','away_team','home_score','away_score']\n",
    "for idx, r in pred.iterrows():\n",
    "    if r.home_score > r.away_score:\n",
    "        pred.loc[idx,'h_points']=3\n",
    "        pred.loc[idx,'a_points']=0\n",
    "    elif r.home_score == r.away_score:\n",
    "        pred.loc[idx,'h_points']=1\n",
    "        pred.loc[idx,'a_points']=1\n",
    "    else:\n",
    "        pred.loc[idx,'h_points']=0\n",
    "        pred.loc[idx,'a_points']=3\n",
    "\n",
    "pred"
   ]
  },
  {
   "cell_type": "markdown",
   "id": "f9c04ea1-4a1d-42d2-9035-039527947d34",
   "metadata": {},
   "source": [
    "# 1st Stage Result and table"
   ]
  },
  {
   "cell_type": "code",
   "execution_count": null,
   "id": "ff2ea621-ada2-469c-b222-4db3471c7df9",
   "metadata": {},
   "outputs": [],
   "source": [
    "# World Cup Table\n",
    "#The structure of the world cup is stored in a json file\n",
    "WC_TABLE = 'wc_2022_table.json'\n",
    "import pandas as pd\n",
    "import json\n",
    "import os\n",
    "\n",
    "\n",
    "# Reading the json as a dict\n",
    "with open('dataset/wc_2022_table.json') as json_data:\n",
    "    data = json.load(json_data)\n",
    "\n",
    "wc_table = pd.DataFrame.from_dict(data['stage'], orient='index').T.reset_index()\n",
    "#print(wc_table)\n",
    "table = pd.DataFrame()\n",
    "for idx, r in wc_table.iterrows():\n",
    "    teams = r.groups\n",
    "    group = r['index']\n",
    "    for team in teams:\n",
    "        # look in predict table for point and score\n",
    "        h=pred.query('home_team == @team')[['home_score','away_score','h_points']]\n",
    "        h.columns=['for','against','points']\n",
    "        a=pred.query('away_team == @team')[['away_score','home_score','a_points']]\n",
    "        a.columns=['for','against','points']\n",
    "\n",
    "        frames = [a,h]\n",
    "        t=pd.DataFrame(pd.concat(frames).sum()).T\n",
    "        t['team']=team      \n",
    "        t['group']=group\n",
    "\n",
    "        frames = [table, t]\n",
    "        table = pd.concat(frames)  "
   ]
  },
  {
   "cell_type": "code",
   "execution_count": null,
   "id": "52550d81-f4a7-430e-af8c-b2fb26798fca",
   "metadata": {},
   "outputs": [],
   "source": [
    "cols = ['group','team','for','against','diff','points']\n",
    "table['diff']= table['for']-table['against']\n",
    "table=table[cols].sort_values(['group','points','diff','for','against'], ascending=[True,False,False,False,True])\n",
    "logging.info('')\n",
    "logging.info('Tables after Group Stage')\n",
    "logging.info('---------------------------------------')\n",
    "logging.info(table)"
   ]
  },
  {
   "cell_type": "code",
   "execution_count": null,
   "id": "9d16f173-4fe1-46e5-9dd3-10cb6e59ac2c",
   "metadata": {},
   "outputs": [],
   "source": [
    "first_in_group = table.groupby(['group']).nth(0).copy()\n",
    "for idx, r in first_in_group.iterrows():\n",
    "    grp = idx.split('-')\n",
    "    code = f\"1{grp[1].upper()}\"\n",
    "    first_in_group.loc[idx,'code']=code\n",
    "\n",
    "\n",
    "second_in_group = table.groupby(['group']).nth(1).copy()\n",
    "for idx, r in second_in_group.iterrows():\n",
    "    grp = idx.split('-')\n",
    "    code = f\"2{grp[1].upper()}\"\n",
    "    second_in_group.loc[idx,'code']=code\n",
    "\n",
    "\n",
    "\n",
    "\n",
    "frames = [first_in_group,second_in_group]\n",
    "logging.info('')\n",
    "logging.info('1st After Group Stage')\n",
    "logging.info('---------------------------------------')\n",
    "logging.info(first_in_group)\n",
    "\n",
    "logging.info('')\n",
    "logging.info('2nd After Group Stage')\n",
    "logging.info('---------------------------------------')\n",
    "logging.info(second_in_group)"
   ]
  },
  {
   "cell_type": "code",
   "execution_count": null,
   "id": "9ba2c8b7-f64e-443b-9c46-efdbc2129a35",
   "metadata": {},
   "outputs": [],
   "source": [
    "first_in_group"
   ]
  },
  {
   "cell_type": "code",
   "execution_count": null,
   "id": "64447a85-f1c2-45f5-ad2c-2a4021cbd224",
   "metadata": {},
   "outputs": [],
   "source": [
    "second_in_group"
   ]
  },
  {
   "cell_type": "markdown",
   "id": "2f66f8ec-49d7-4157-ac2f-4273bffcfe34",
   "metadata": {},
   "source": [
    "# Knockout Stage"
   ]
  },
  {
   "cell_type": "code",
   "execution_count": null,
   "id": "0d25e12b-70a4-4cce-969b-bde5b7f87a01",
   "metadata": {},
   "outputs": [],
   "source": [
    "logging.info('-----------------------------------------------------------------------------')\n",
    "logging.info('    KNOCKOUT STAGE')\n",
    "logging.info('')"
   ]
  },
  {
   "cell_type": "code",
   "execution_count": null,
   "id": "cff99963-2634-4e77-bea5-482ecfcde81e",
   "metadata": {},
   "outputs": [],
   "source": [
    "next_game = pd.concat(frames)\n",
    "next_game\n",
    "ko16 = pd.DataFrame.from_dict(data['knockouts'], orient='index').T.reset_index()\n",
    "ko16\n",
    "games16 = []\n",
    "for idx, r in ko16.iterrows():\n",
    "    g1 = r['knockout-16'][0]\n",
    "    g2 = r['knockout-16'][1]\n",
    "\n",
    "    t1 = g1[0]\n",
    "    t2 = g1[1]\n",
    "\n",
    "    games16.append([next_game.query('code == @t1').team.values[0],next_game.query('code == @t2').team.values[0]])\n",
    "\n",
    "    t1 = g2[0]\n",
    "    t2 = g2[1]\n",
    "\n",
    "    games16.append([next_game.query('code == @t1').team.values[0],next_game.query('code == @t2').team.values[0]])\n",
    "\n",
    "\n",
    "logging.info('******* ROUND 16')\n",
    "logging.info(games16)\n",
    "games16\n"
   ]
  },
  {
   "cell_type": "code",
   "execution_count": null,
   "id": "4fa41af3-804e-404a-9269-bf8315828745",
   "metadata": {},
   "outputs": [],
   "source": [
    "# all time games\n",
    "alg = pd.read_csv(f'{FOLDER}/training_dataset.csv')\n",
    "alg.shape\n",
    "# if no data are found so this function will create a dummy entries with teams\n",
    "# the scope of data is based on feat which is the collection of data need\n",
    "\n",
    "def define_unknown_game(home, away):\n",
    "    \"\"\"_summary_\n",
    "    Look inside the training_dataset for both teams games and fifa ranking and the collect\n",
    "    same pattern game\n",
    "\n",
    "    Args:\n",
    "        home (_type_): _description_\n",
    "        away (_type_): _description_\n",
    "    \"\"\"\n",
    "    #print(home, away)\n",
    "    # get a list of ranking FIFA\n",
    "    rk = pd.read_csv('dataset/fifa_ranking-2021-05-27.csv')\n",
    "    rk['rank_date']=pd.to_datetime(rk['rank_date'])\n",
    "    rk['rank_year']=rk.rank_date.dt.year\n",
    "    rk = rk.query('rank_year == 2018').copy()\n",
    "    rk = rk.groupby('country_full').mean()\n",
    "\n",
    "    ts = pd.read_csv('dataset/training_dataset.csv')\n",
    "    ts['FIFA_diff']=abs(ts['home_team_rank_FIFA']-ts['away_team_rank_FIFA'])\n",
    "\n",
    "    rk= rk.query('country_full == @home or country_full == @away')\n",
    "    try:\n",
    "        home_rank = rk.query('country_full == @home')['rank'][0]\n",
    "        away_rank = rk.query('country_full == @away')['rank'][0]\n",
    "    except:\n",
    "        home_rank=99\n",
    "        away_rank=99\n",
    "\n",
    "    diff = abs(home_rank - away_rank)\n",
    "\n",
    "    subset_ts = ts.query('(FIFA_diff > @diff*0.85 and FIFA_diff < @diff*1.15)')\n",
    "    subset_ts= pd.DataFrame(subset_ts.mean()).T\n",
    "    subset_ts['matchday']=None\n",
    "    subset_ts['home_team']=home\n",
    "    subset_ts['away_team']=away\n",
    "    subset_ts['correct_score']='0:0'\n",
    "    try:\n",
    "        return rk.query('country_full == @home')['rank'][0],rk.query('country_full == @away')['rank'][0], subset_ts\n",
    "    except:\n",
    "        return 99,99, subset_ts\n",
    "\n",
    "\n",
    "\n",
    "rh, ra, ts = define_unknown_game('Belgium','Senegal')\n",
    "rh, ra\n"
   ]
  },
  {
   "cell_type": "code",
   "execution_count": null,
   "id": "c84c879a-8706-48f7-bcad-c6cb88eaba93",
   "metadata": {},
   "outputs": [],
   "source": [
    "for game in games16:\n",
    "    rh = fifa.get_last_rank(game[0])\n",
    "    ra = fifa.get_last_rank(game[1])\n",
    "    print(game[0], game[1], np.round(rh,2), np.round(ra,2))"
   ]
  },
  {
   "cell_type": "code",
   "execution_count": null,
   "id": "64298a50-9e68-4ea6-acb9-eb8fc7af7bc3",
   "metadata": {},
   "outputs": [],
   "source": []
  }
 ],
 "metadata": {
  "kernelspec": {
   "display_name": "pycaret-boost",
   "language": "python",
   "name": "pycaret"
  },
  "language_info": {
   "codemirror_mode": {
    "name": "ipython",
    "version": 3
   },
   "file_extension": ".py",
   "mimetype": "text/x-python",
   "name": "python",
   "nbconvert_exporter": "python",
   "pygments_lexer": "ipython3",
   "version": "3.8.8"
  },
  "widgets": {
   "application/vnd.jupyter.widget-state+json": {
    "state": {},
    "version_major": 2,
    "version_minor": 0
   }
  }
 },
 "nbformat": 4,
 "nbformat_minor": 5
}
