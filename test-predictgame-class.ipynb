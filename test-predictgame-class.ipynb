{
 "cells": [
  {
   "cell_type": "code",
   "execution_count": 1,
   "metadata": {},
   "outputs": [],
   "source": [
    "import predictgame as pg"
   ]
  },
  {
   "cell_type": "code",
   "execution_count": 2,
   "metadata": {},
   "outputs": [
    {
     "data": {
      "application/javascript": [
       "\n",
       "        if (window._pyforest_update_imports_cell) { window._pyforest_update_imports_cell('import pandas as pd'); }\n",
       "    "
      ],
      "text/plain": [
       "<IPython.core.display.Javascript object>"
      ]
     },
     "metadata": {},
     "output_type": "display_data"
    },
    {
     "data": {
      "application/javascript": [
       "\n",
       "        if (window._pyforest_update_imports_cell) { window._pyforest_update_imports_cell('import pandas as pd'); }\n",
       "    "
      ],
      "text/plain": [
       "<IPython.core.display.Javascript object>"
      ]
     },
     "metadata": {},
     "output_type": "display_data"
    },
    {
     "data": {
      "application/javascript": [
       "\n",
       "        if (window._pyforest_update_imports_cell) { window._pyforest_update_imports_cell('import pandas as pd'); }\n",
       "    "
      ],
      "text/plain": [
       "<IPython.core.display.Javascript object>"
      ]
     },
     "metadata": {},
     "output_type": "display_data"
    },
    {
     "name": "stdout",
     "output_type": "stream",
     "text": [
      "(4371, 23)\n"
     ]
    }
   ],
   "source": [
    "# define some constant\n",
    "FOLDER = 'dataset'\n",
    "FILENAME = 'wc_2018.csv'\n",
    "PATH = f'{FOLDER}/{FILENAME}'\n",
    "\n",
    "wc = pd.read_csv(f'{PATH}')\n",
    "wc.drop('Unnamed: 0', axis=1, inplace=True)\n",
    "wc['matchday'] = pd.to_datetime(wc['matchday'], format='%Y-%m-%d')\n",
    "wc.sort_values('matchday', inplace=True)\n",
    "\n",
    "g = pg.PredictGame(pd.DataFrame(wc.iloc[12,:]).T)"
   ]
  },
  {
   "cell_type": "code",
   "execution_count": 3,
   "metadata": {},
   "outputs": [
    {
     "data": {
      "text/plain": [
       "['1N2_1',\n",
       " '1N2_N',\n",
       " '1N2_2',\n",
       " 'home_team_rank_FIFA',\n",
       " 'home_team_trend',\n",
       " 'home_team_odd_trend',\n",
       " 'corr_score_home',\n",
       " 'away_team_rank_FIFA',\n",
       " 'away_team_trend',\n",
       " 'away_team_odd_trend',\n",
       " 'corr_score_away']"
      ]
     },
     "execution_count": 3,
     "metadata": {},
     "output_type": "execute_result"
    }
   ],
   "source": [
    "g.features"
   ]
  },
  {
   "cell_type": "code",
   "execution_count": 4,
   "metadata": {},
   "outputs": [
    {
     "data": {
      "application/javascript": [
       "\n",
       "        if (window._pyforest_update_imports_cell) { window._pyforest_update_imports_cell('import pandas as pd'); }\n",
       "    "
      ],
      "text/plain": [
       "<IPython.core.display.Javascript object>"
      ]
     },
     "metadata": {},
     "output_type": "display_data"
    },
    {
     "data": {
      "text/html": [
       "<div>\n",
       "<style scoped>\n",
       "    .dataframe tbody tr th:only-of-type {\n",
       "        vertical-align: middle;\n",
       "    }\n",
       "\n",
       "    .dataframe tbody tr th {\n",
       "        vertical-align: top;\n",
       "    }\n",
       "\n",
       "    .dataframe thead th {\n",
       "        text-align: right;\n",
       "    }\n",
       "</style>\n",
       "<table border=\"1\" class=\"dataframe\">\n",
       "  <thead>\n",
       "    <tr style=\"text-align: right;\">\n",
       "      <th></th>\n",
       "      <th>matchday</th>\n",
       "      <th>home_team</th>\n",
       "      <th>away_team</th>\n",
       "      <th>season</th>\n",
       "      <th>competition</th>\n",
       "      <th>correct_score</th>\n",
       "      <th>1N2_1</th>\n",
       "      <th>1N2_N</th>\n",
       "      <th>1N2_2</th>\n",
       "      <th>home_team_rank_FIFA</th>\n",
       "      <th>away_team_rank_FIFA</th>\n",
       "      <th>home_team_trend</th>\n",
       "      <th>away_team_trend</th>\n",
       "      <th>home_team_odd_trend</th>\n",
       "      <th>away_team_odd_trend</th>\n",
       "      <th>target</th>\n",
       "      <th>best_odd_won</th>\n",
       "      <th>corr_score_home</th>\n",
       "      <th>corr_score_away</th>\n",
       "    </tr>\n",
       "  </thead>\n",
       "  <tbody>\n",
       "    <tr>\n",
       "      <th>12</th>\n",
       "      <td>2018-06-18</td>\n",
       "      <td>Tunisia</td>\n",
       "      <td>England</td>\n",
       "      <td>2018</td>\n",
       "      <td>world-cup</td>\n",
       "      <td>1:2</td>\n",
       "      <td>8.54</td>\n",
       "      <td>4.17</td>\n",
       "      <td>1.47</td>\n",
       "      <td>23.083333</td>\n",
       "      <td>10.0</td>\n",
       "      <td>7.0</td>\n",
       "      <td>11.0</td>\n",
       "      <td>1.855</td>\n",
       "      <td>2.315</td>\n",
       "      <td>2.0</td>\n",
       "      <td>True</td>\n",
       "      <td>0.866025</td>\n",
       "      <td>0.949018</td>\n",
       "    </tr>\n",
       "  </tbody>\n",
       "</table>\n",
       "</div>"
      ],
      "text/plain": [
       "     matchday home_team away_team season competition correct_score 1N2_1  \\\n",
       "12 2018-06-18   Tunisia   England   2018   world-cup           1:2  8.54   \n",
       "\n",
       "   1N2_N 1N2_2 home_team_rank_FIFA away_team_rank_FIFA home_team_trend  \\\n",
       "12  4.17  1.47           23.083333                10.0             7.0   \n",
       "\n",
       "   away_team_trend home_team_odd_trend away_team_odd_trend target  \\\n",
       "12            11.0               1.855               2.315    2.0   \n",
       "\n",
       "   best_odd_won corr_score_home corr_score_away  \n",
       "12         True        0.866025        0.949018  "
      ]
     },
     "execution_count": 4,
     "metadata": {},
     "output_type": "execute_result"
    }
   ],
   "source": [
    "pd.DataFrame(wc.iloc[12,:]).T"
   ]
  },
  {
   "cell_type": "code",
   "execution_count": 5,
   "metadata": {},
   "outputs": [
    {
     "name": "stdout",
     "output_type": "stream",
     "text": [
      "[[12   2018-06-18\n",
      "Name: matchday, dtype: datetime64[ns], 12    Tunisia\n",
      "Name: home_team, dtype: object, 12    England\n",
      "Name: away_team, dtype: object, 12    1:2\n",
      "Name: correct_score, dtype: object, array([1]), array([1]), [], array([[0.35905212, 0.6409479 ]], dtype=float32), array([[0, 0]])]]\n"
     ]
    },
    {
     "data": {
      "text/plain": [
       "([[12   2018-06-18\n",
       "   Name: matchday, dtype: datetime64[ns],\n",
       "   12    Tunisia\n",
       "   Name: home_team, dtype: object,\n",
       "   12    England\n",
       "   Name: away_team, dtype: object,\n",
       "   12    1:2\n",
       "   Name: correct_score, dtype: object,\n",
       "   array([1]),\n",
       "   array([1]),\n",
       "   [],\n",
       "   array([[0.35905212, 0.6409479 ]], dtype=float32),\n",
       "   array([[0, 0]])]],\n",
       " 12   2018-06-18\n",
       " Name: matchday, dtype: datetime64[ns])"
      ]
     },
     "execution_count": 5,
     "metadata": {},
     "output_type": "execute_result"
    }
   ],
   "source": [
    "g.predict()"
   ]
  },
  {
   "cell_type": "code",
   "execution_count": null,
   "metadata": {},
   "outputs": [],
   "source": []
  },
  {
   "cell_type": "code",
   "execution_count": 41,
   "metadata": {},
   "outputs": [
    {
     "name": "stdout",
     "output_type": "stream",
     "text": [
      "[[12   2018-06-18\n",
      "Name: matchday, dtype: datetime64[ns], 12    Tunisia\n",
      "Name: home_team, dtype: object, 12    England\n",
      "Name: away_team, dtype: object, 12    1:2\n",
      "Name: correct_score, dtype: object, array([1]), array([1]), [], array([[0.35905212, 0.6409479 ]], dtype=float32), array([[0, 0]])]]\n"
     ]
    },
    {
     "data": {
      "text/plain": [
       "(0.35905212, 0.6409479)"
      ]
     },
     "execution_count": 41,
     "metadata": {},
     "output_type": "execute_result"
    }
   ],
   "source": [
    "p = g.predict()\n",
    "t=p[0][0][7]\n",
    "t[0][0], t[0][1]"
   ]
  },
  {
   "cell_type": "code",
   "execution_count": 49,
   "metadata": {},
   "outputs": [
    {
     "data": {
      "text/plain": [
       "'Tunisia'"
      ]
     },
     "execution_count": 49,
     "metadata": {},
     "output_type": "execute_result"
    }
   ],
   "source": [
    "p[0][0][1].values[0]\n"
   ]
  },
  {
   "cell_type": "code",
   "execution_count": 53,
   "metadata": {},
   "outputs": [
    {
     "data": {
      "text/plain": [
       "'England'"
      ]
     },
     "execution_count": 53,
     "metadata": {},
     "output_type": "execute_result"
    }
   ],
   "source": [
    "p[0][0][2].values[0]"
   ]
  },
  {
   "cell_type": "code",
   "execution_count": 36,
   "metadata": {},
   "outputs": [
    {
     "data": {
      "application/javascript": [
       "\n",
       "        if (window._pyforest_update_imports_cell) { window._pyforest_update_imports_cell('import pandas as pd'); }\n",
       "    "
      ],
      "text/plain": [
       "<IPython.core.display.Javascript object>"
      ]
     },
     "metadata": {},
     "output_type": "display_data"
    },
    {
     "data": {
      "text/plain": [
       "0"
      ]
     },
     "execution_count": 36,
     "metadata": {},
     "output_type": "execute_result"
    }
   ],
   "source": [
    "res, proba = pd.DataFrame(p).T\n",
    "res\n"
   ]
  },
  {
   "cell_type": "code",
   "execution_count": 8,
   "metadata": {},
   "outputs": [
    {
     "data": {
      "text/plain": [
       "1"
      ]
     },
     "execution_count": 8,
     "metadata": {},
     "output_type": "execute_result"
    }
   ],
   "source": [
    "proba"
   ]
  },
  {
   "cell_type": "code",
   "execution_count": 9,
   "metadata": {},
   "outputs": [
    {
     "data": {
      "text/plain": [
       "0"
      ]
     },
     "execution_count": 9,
     "metadata": {},
     "output_type": "execute_result"
    }
   ],
   "source": [
    "res"
   ]
  },
  {
   "cell_type": "code",
   "execution_count": 37,
   "metadata": {},
   "outputs": [
    {
     "data": {
      "text/plain": [
       "array([[0.35905212, 0.6409479 ]], dtype=float32)"
      ]
     },
     "execution_count": 37,
     "metadata": {},
     "output_type": "execute_result"
    }
   ],
   "source": [
    "t=p[0][0][7]\n",
    "t"
   ]
  },
  {
   "cell_type": "code",
   "execution_count": 22,
   "metadata": {},
   "outputs": [
    {
     "data": {
      "text/plain": [
       "'England'"
      ]
     },
     "execution_count": 22,
     "metadata": {},
     "output_type": "execute_result"
    }
   ],
   "source": []
  }
 ],
 "metadata": {
  "interpreter": {
   "hash": "ab3f366bedf54b39e44c27c44adba3b5490d6e2929230bdba083ec5c84146c8a"
  },
  "kernelspec": {
   "display_name": "Python 3",
   "language": "python",
   "name": "python3"
  },
  "language_info": {
   "codemirror_mode": {
    "name": "ipython",
    "version": 3
   },
   "file_extension": ".py",
   "mimetype": "text/x-python",
   "name": "python",
   "nbconvert_exporter": "python",
   "pygments_lexer": "ipython3",
   "version": "3.8.8"
  },
  "widgets": {
   "application/vnd.jupyter.widget-state+json": {
    "state": {},
    "version_major": 2,
    "version_minor": 0
   }
  }
 },
 "nbformat": 4,
 "nbformat_minor": 4
}
