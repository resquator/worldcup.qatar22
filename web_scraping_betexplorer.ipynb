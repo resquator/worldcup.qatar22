{
 "cells": [
  {
   "cell_type": "markdown",
   "id": "01263f8a-fd03-4934-be6d-b61f1d7a9195",
   "metadata": {},
   "source": [
    "# Notebook Content\n",
    "This Notebook creates a list of urls for OddsPortal website to scrap data.\n",
    "The page contains the \"key\" that must be used to get detail of a game."
   ]
  },
  {
   "cell_type": "code",
   "execution_count": 1,
   "id": "9928203a-7359-461b-b6fc-dd02dd84741a",
   "metadata": {},
   "outputs": [
    {
     "data": {
      "text/plain": [
       "'20221013182335'"
      ]
     },
     "execution_count": 1,
     "metadata": {},
     "output_type": "execute_result"
    }
   ],
   "source": [
    "import requests\n",
    "import pandas as pd\n",
    "from tqdm import tqdm\n",
    "\n",
    "\n",
    "from datetime import datetime\n",
    "import logging\n",
    "dateTimeObj = datetime.now()\n",
    "timestampStr = dateTimeObj.strftime(\"%Y%m%d%H%M%S\")\n",
    "logging.basicConfig(filename=f'run_betexplorer_scrapping_{timestampStr}.log',  level=logging.DEBUG,\n",
    "    format='%(asctime)s %(message)s', datefmt='%m/%d/%Y %I:%M:%S %p')\n",
    "timestampStr"
   ]
  },
  {
   "cell_type": "code",
   "execution_count": 2,
   "id": "be46a3a6",
   "metadata": {},
   "outputs": [],
   "source": [
    "logging.info('INITIALISING ....')"
   ]
  },
  {
   "cell_type": "code",
   "execution_count": 3,
   "id": "cf093165-6038-408a-a5cf-cf29120a5851",
   "metadata": {},
   "outputs": [],
   "source": [
    "import bs4 as BeautifulSoup\n",
    "from bs4 import BeautifulSoup"
   ]
  },
  {
   "cell_type": "code",
   "execution_count": 4,
   "id": "2bd6f2aa-b423-461f-9211-fabebf51f934",
   "metadata": {},
   "outputs": [],
   "source": [
    "\n",
    "\n",
    "wcs = [\n",
    "\n",
    "\n",
    "    'https://www.betexplorer.com/soccer/north-central-america/concacaf-nations-league-2019-2020/results/?stage=nsYLeXxC',\n",
    "    'https://www.betexplorer.com/soccer/north-central-america/concacaf-nations-league-2019-2020/results/?stage=EZ6MtpeH',\n",
    "    'https://www.betexplorer.com/soccer/north-central-america/concacaf-nations-league-2019-2020/results/?stage=WAHHsQuB',\n",
    "    'https://www.betexplorer.com/soccer/north-central-america/concacaf-nations-league-2019-2020/results/?stage=QXWPfihI',\n",
    "    'https://www.betexplorer.com/soccer/world/world-cup-2006/results/?stage=rVr9374R',\n",
    "    'https://www.betexplorer.com/soccer/world/world-cup-2006/results/?stage=z1qq3mkL',\n",
    "    'https://www.betexplorer.com/soccer/world/world-cup-2010/results/?stage=QN1QYX1j',\n",
    "    'https://www.betexplorer.com/soccer/world/world-cup-2010/results/?stage=lxOVoutC'\n",
    "    'https://www.betexplorer.com/soccer/world/world-cup-2014/results/?stage=61tCiOIs',\n",
    "    'https://www.betexplorer.com/soccer/world/world-cup-2014/results/?stage=lMyc6LHg',\n",
    "    'https://www.betexplorer.com/soccer/world/world-cup-2018/results/?stage=OneVXSrp',\n",
    "    'https://www.betexplorer.com/soccer/world/world-cup-2018/results/?stage=6BpzXnbj',\n",
    "    'https://www.betexplorer.com/soccer/world/world-cup-2006/results/?stage=z1qq3mkL',\n",
    "    'https://www.betexplorer.com/soccer/world/world-cup-2006/results/?stage=rVr9374R',\n",
    "    'https://www.betexplorer.com/soccer/world/world-cup-2018/results/?stage=OneVXSrp',\n",
    "    'https://www.betexplorer.com/soccer/world/world-cup-2018/results/?stage=6BpzXnbj',\n",
    "    'https://www.betexplorer.com/soccer/world/world-cup-2002/results/?stage=bL7AeflU',\n",
    "    'https://www.betexplorer.com/soccer/world/world-cup-2002/results/?stage=va7OGwKu',\n",
    "    'https://www.betexplorer.com/soccer/europe/euro-2012/results/?stage=0KJoGw4m',\n",
    "    'https://www.betexplorer.com/soccer/europe/euro-2012/results/?stage=dGF5UAqn',\n",
    "    'https://www.betexplorer.com/soccer/europe/euro-2012/results/?stage=dGF5UAqn',\n",
    "    'https://www.betexplorer.com/soccer/europe/euro-2016/results/?stage=27qZfR4C',\n",
    "    'https://www.betexplorer.com/soccer/europe/euro-2016/results/?stage=fkpfJlCP',\n",
    "    'https://www.betexplorer.com/soccer/europe/euro-2020/results/?stage=lKofutJ6',\n",
    "    'https://www.betexplorer.com/soccer/europe/euro-2020/results/?stage=Wryav0YC',\n",
    "    'https://www.betexplorer.com/soccer/europe/euro-2016/results/?stage=dUrwfoKI',\n",
    "    'https://www.betexplorer.com/soccer/europe/euro-2020/results/?stage=t2nF33QJ',\n",
    "    'https://www.betexplorer.com/soccer/world/world-cup-2006/results/?stage=rVr9374R',\n",
    "    'https://www.betexplorer.com/soccer/world/world-cup-2010/results/?stage=QN1QYX1j',\n",
    "    'https://www.betexplorer.com/soccer/world/world-cup-2010/results/?stage=lxOVoutC'\n",
    "    'https://www.betexplorer.com/soccer/world/world-cup-2014/results/?stage=61tCiOIs',\n",
    "    'https://www.betexplorer.com/soccer/world/world-cup-2014/results/?stage=lMyc6LHg',\n",
    "    'https://www.betexplorer.com/soccer/world/world-cup-2018/results/?stage=OneVXSrp',\n",
    "    'https://www.betexplorer.com/soccer/world/world-cup-2018/results/?stage=6BpzXnbj',\n",
    "    'https://www.betexplorer.com/soccer/world/world-cup-2006/results/?stage=z1qq3mkL',\n",
    "    'https://www.betexplorer.com/soccer/world/world-cup-2006/results/?stage=rVr9374R',\n",
    "    'https://www.betexplorer.com/soccer/world/world-cup-2010/results/?stage=QN1QYX1j',\n",
    "    'https://www.betexplorer.com/soccer/world/world-cup-2010/results/?stage=lxOVoutC'\n",
    "    'https://www.betexplorer.com/soccer/world/world-cup-2014/results/?stage=61tCiOIs',\n",
    "    'https://www.betexplorer.com/soccer/world/world-cup-2014/results/?stage=lMyc6LHg',\n",
    "    'https://www.betexplorer.com/soccer/world/world-cup-2018/results/?stage=OneVXSrp',\n",
    "    'https://www.betexplorer.com/soccer/world/world-cup-2018/results/?stage=6BpzXnbj',\n",
    "    'https://www.betexplorer.com/soccer/world/world-cup-2006/results/?stage=rVr9374R',\n",
    "    'https://www.betexplorer.com/soccer/world/world-cup-2010/results/?stage=QN1QYX1j',\n",
    "    'https://www.betexplorer.com/soccer/world/world-cup-2010/results/?stage=lxOVoutC'\n",
    "    'https://www.betexplorer.com/soccer/world/world-cup-2014/results/?stage=61tCiOIs',\n",
    "    'https://www.betexplorer.com/soccer/world/world-cup-2014/results/?stage=lMyc6LHg',\n",
    "    'https://www.betexplorer.com/soccer/world/world-cup-2018/results/?stage=OneVXSrp',\n",
    "    'https://www.betexplorer.com/soccer/world/world-cup-2018/results/?stage=6BpzXnbj',\n",
    "    'https://www.betexplorer.com/soccer/world/world-cup-2006/results/?stage=z1qq3mkL',\n",
    "    'https://www.betexplorer.com/soccer/world/world-cup-2006/results/?stage=rVr9374R',\n",
    "    'https://www.betexplorer.com/soccer/world/world-cup-2010/results/?stage=QN1QYX1j',\n",
    "    'https://www.betexplorer.com/soccer/world/world-cup-2010/results/?stage=lxOVoutC'\n",
    "    'https://www.betexplorer.com/soccer/world/world-cup-2014/results/?stage=61tCiOIs',\n",
    "    'https://www.betexplorer.com/soccer/world/world-cup-2014/results/?stage=lMyc6LHg',\n",
    "    'https://www.betexplorer.com/soccer/world/world-cup-2018/results/?stage=OneVXSrp',\n",
    "    'https://www.betexplorer.com/soccer/world/world-cup-2018/results/?stage=6BpzXnbj',    \n",
    "    \n",
    "    \n",
    "\n",
    "]"
   ]
  },
  {
   "cell_type": "code",
   "execution_count": 5,
   "id": "307a4a9c-9d79-4917-a791-756440053d55",
   "metadata": {},
   "outputs": [
    {
     "name": "stderr",
     "output_type": "stream",
     "text": [
      "  0%|          | 0/1 [00:00<?, ?it/s]\n"
     ]
    },
    {
     "ename": "IndexError",
     "evalue": "list index out of range",
     "output_type": "error",
     "traceback": [
      "\u001b[0;31m---------------------------------------------------------------------------\u001b[0m",
      "\u001b[0;31mIndexError\u001b[0m                                Traceback (most recent call last)",
      "\u001b[0;32m<ipython-input-5-a8817d466131>\u001b[0m in \u001b[0;36m<module>\u001b[0;34m\u001b[0m\n\u001b[1;32m     35\u001b[0m         \u001b[0;32mif\u001b[0m \u001b[0;34m'in-match'\u001b[0m \u001b[0;32min\u001b[0m \u001b[0mr\u001b[0m\u001b[0;34m:\u001b[0m\u001b[0;34m\u001b[0m\u001b[0;34m\u001b[0m\u001b[0m\n\u001b[1;32m     36\u001b[0m             \u001b[0mlogging\u001b[0m\u001b[0;34m.\u001b[0m\u001b[0minfo\u001b[0m\u001b[0;34m(\u001b[0m\u001b[0mr\u001b[0m\u001b[0;34m)\u001b[0m\u001b[0;34m\u001b[0m\u001b[0;34m\u001b[0m\u001b[0m\n\u001b[0;32m---> 37\u001b[0;31m             \u001b[0mmatchday\u001b[0m \u001b[0;34m=\u001b[0m \u001b[0mr\u001b[0m\u001b[0;34m.\u001b[0m\u001b[0msplit\u001b[0m\u001b[0;34m(\u001b[0m\u001b[0;34m'<td class=\"h-text-right h-text-no-wrap\">'\u001b[0m\u001b[0;34m)\u001b[0m\u001b[0;34m[\u001b[0m\u001b[0;36m1\u001b[0m\u001b[0;34m]\u001b[0m\u001b[0;34m\u001b[0m\u001b[0;34m\u001b[0m\u001b[0m\n\u001b[0m\u001b[1;32m     38\u001b[0m \u001b[0;34m\u001b[0m\u001b[0m\n\u001b[1;32m     39\u001b[0m             \u001b[0mtemp\u001b[0m \u001b[0;34m=\u001b[0m \u001b[0mBeautifulSoup\u001b[0m\u001b[0;34m(\u001b[0m\u001b[0mr\u001b[0m\u001b[0;34m,\u001b[0m \u001b[0;34m'html.parser'\u001b[0m\u001b[0;34m)\u001b[0m\u001b[0;34m\u001b[0m\u001b[0;34m\u001b[0m\u001b[0m\n",
      "\u001b[0;31mIndexError\u001b[0m: list index out of range"
     ]
    }
   ],
   "source": [
    "\n",
    "\n",
    "for y in range(2002,2021):\n",
    "    for m in range(1,10):\n",
    "        u = f\"https://www.betexplorer.com/soccer/world/friendly-international-{y}/results/?month={y}-0{m}\"\n",
    "        wcs.append(u)\n",
    "\n",
    "\n",
    "wcs= ['https://www.betexplorer.com/soccer/world/world-cup-2022/']\n",
    "\n",
    "\n",
    "# https://www.betexplorer.com/soccer/world/friendly-international-2013/results/?month=2013-02\n",
    "urls = []\n",
    "games_bets_rows = []\n",
    "for wc in tqdm(wcs):\n",
    "    url = wc\n",
    "    print(wc)\n",
    "    try:\n",
    "        page = requests.get(url)\n",
    "\n",
    "        content = page.content\n",
    "\n",
    "\n",
    "        soup = BeautifulSoup(page.content, 'html.parser')\n",
    "\n",
    "\n",
    "        tr_rows = soup.find_all('tr')\n",
    "\n",
    "\n",
    "        ix = 0\n",
    "        for row in tr_rows:\n",
    "            #print(ix)\n",
    "            ix=ix+1\n",
    "            r = str(row)\n",
    "            #print(r)\n",
    "\n",
    "            if 'in-match' in r:\n",
    "                logging.info(r)\n",
    "                matchday = r.split('<td class=\"h-text-right h-text-no-wrap\">')[1]\n",
    "\n",
    "                temp = BeautifulSoup(r, 'html.parser')\n",
    "                spans = temp.find_all('span')\n",
    "                i=0\n",
    "                for span in spans:\n",
    "                    if i < 2:\n",
    "\n",
    "                        s = str(span)\n",
    "                        s = s.replace('<','').replace('>','').replace('strong','').replace('span','').replace('/','')\n",
    "                        logging.info(f'      {s}')\n",
    "                        if i == 0:\n",
    "                            home_team=s\n",
    "                        else:\n",
    "                            away_team=s\n",
    "                        i=i+1\n",
    "\n",
    "\n",
    "                odds = temp.find_all('td', class_='table-main__odds')\n",
    "                input_tag = temp.find(\"td\", {\"name\":\"City\"})\n",
    "                odds_list=[]\n",
    "                valid_odds=False\n",
    "                for odd in odds:\n",
    "                    o = str(odd).split('data-odd=')\n",
    "                    logging.info(o[1].split('\"')[1])\n",
    "                    odds_list.append(o[1].split('\"')[1])\n",
    "                    valid_odds=True\n",
    "\n",
    "                games = temp.find_all('td', class_='h-text-center')\n",
    "                for game in games:\n",
    "                    gam= str(game)\n",
    "                    #logging.info(gam)\n",
    "                    # get the game + key\n",
    "                    g = gam.split('href=\"')[1].split('\">')[0]\n",
    "                    g = g.split('/')\n",
    "                    g = f\"{g[1]}/{g[2]}/{g[3]}/{g[4]}-{g[5]}\"\n",
    "                    # get game score\n",
    "                    s = gam.split('</a')[0]\n",
    "                    s = s.split('/\">')[1]\n",
    "                    s = s.split(' ')[0]\n",
    "                    if ':' in s:\n",
    "                        logging.info(s)\n",
    "                        correct_score=s\n",
    "                        game_entry=g\n",
    "                        game_url = url\n",
    "                        urls.append([g,url,s])\n",
    "                logging.info(matchday.split('<')[0])\n",
    "                matchday = matchday.split('<')[0]\n",
    "\n",
    "                if valid_odds:\n",
    "                    games_bets_rows.append([game_entry, matchday, home_team, away_team, correct_score, odds_list[0], odds_list[1], odds_list[2], game_url ])\n",
    "\n",
    "\n",
    "    except:\n",
    "        logging.info('no-game')\n",
    "        print('no Game')\n",
    "\n",
    "        \n",
    "df = pd.DataFrame(games_bets_rows)\n",
    "df.to_csv(f'data/urls_{timestampStr}.csv', index=False)\n",
    "df.to_csv(f'oddsportal_urls_{timestampStr}.csv')\n",
    "df.drop_duplicates()"
   ]
  },
  {
   "cell_type": "code",
   "execution_count": null,
   "id": "2269ff8b",
   "metadata": {},
   "outputs": [],
   "source": [
    "df.drop_duplicates().to_csv(f'../raw_data/oddsportal_urls_{timestampStr}.csv')\n"
   ]
  },
  {
   "cell_type": "code",
   "execution_count": null,
   "id": "5de599dd-8136-4c07-90ce-87c2a8ad80fd",
   "metadata": {},
   "outputs": [],
   "source": [
    "df.columns = ['oddsportal','matchday','home_team','away_team','correct_score','1N2_1','1N2_N','1N2_2','betexplorer']\n",
    "df.drop_duplicates()"
   ]
  },
  {
   "cell_type": "code",
   "execution_count": null,
   "id": "fa2c4af7",
   "metadata": {},
   "outputs": [],
   "source": [
    "for idx, r in df.iterrows():\n",
    "    d=r.matchday\n",
    "    if len(d)<10:\n",
    "        df.loc[idx,'matchday']=f'{d}2022'\n",
    "df['matchdate'] = pd.to_datetime(df['matchday'],  format=\"%d.%m.%Y\")\n",
    "df['period']=df['matchdate'].dt.to_period('M')\n",
    "df.drop_duplicates(['matchday','home_team','away_team'], inplace=True)\n",
    "df.shape"
   ]
  },
  {
   "cell_type": "code",
   "execution_count": null,
   "id": "44970684",
   "metadata": {},
   "outputs": [],
   "source": [
    "df.drop_duplicates()"
   ]
  },
  {
   "cell_type": "code",
   "execution_count": null,
   "id": "55f05720-0086-4044-bc74-1d08eaeed05c",
   "metadata": {},
   "outputs": [],
   "source": [
    "\n",
    "\n",
    "for idx, r in df.iterrows():\n",
    "    tags = r.oddsportal.split('/')\n",
    "    df.loc[idx,'location']=tags[1]\n",
    "    df.loc[idx,'season']=tags[2].split('-')[-1]\n",
    "    l=tags[2].split('-')[:-1]\n",
    "    df.loc[idx,'competition']='-'.join(l)\n",
    "    # compute 1/N/2\n",
    "    scores = r.correct_score\n",
    "    score = scores.split(':')\n",
    "    if score[0]>score[1]:\n",
    "        df.loc[idx,'bet_won']='1'    \n",
    "        df.loc[idx,'target']=0\n",
    "        df.loc[idx,'odd_win']=r['1N2_1']    \n",
    "        if r['1N2_1']<r['1N2_N'] and r['1N2_1']<r['1N2_2']:\n",
    "            df.loc[idx,'best_odd_won']=True\n",
    "        else:\n",
    "            df.loc[idx,'best_odd_won']=False\n",
    "    elif score[0]<score[1]:\n",
    "        df.loc[idx,'bet_won']='2'\n",
    "        df.loc[idx,'target']=2\n",
    "        df.loc[idx,'odd_win']=r['1N2_2'] \n",
    "        if r['1N2_2']<r['1N2_N'] and r['1N2_2']<r['1N2_1']:\n",
    "            df.loc[idx,'best_odd_won']=True\n",
    "        else:\n",
    "            df.loc[idx,'best_odd_won']=False\n",
    "\n",
    "    else:\n",
    "        df.loc[idx,'bet_won']='N'\n",
    "        df.loc[idx,'target']=1       \n",
    "        df.loc[idx,'odd_win']=r['1N2_N'] \n",
    "        if r['1N2_N']<r['1N2_1'] and r['1N2_N']<r['1N2_2']:\n",
    "            df.loc[idx,'best_odd_won']=True\n",
    "        else:\n",
    "            df.loc[idx,'best_odd_won']=False\n",
    "\n",
    "    \n",
    "    \n",
    "    "
   ]
  },
  {
   "cell_type": "code",
   "execution_count": null,
   "id": "02faa0e2",
   "metadata": {},
   "outputs": [],
   "source": [
    "\n",
    "df.drop_duplicates()"
   ]
  },
  {
   "cell_type": "code",
   "execution_count": null,
   "id": "fd71a1b9",
   "metadata": {},
   "outputs": [],
   "source": [
    "df.dtypes"
   ]
  },
  {
   "cell_type": "code",
   "execution_count": null,
   "id": "8e72ebab",
   "metadata": {},
   "outputs": [],
   "source": [
    "try:\n",
    "    df.drop('matchdate', inplace=True)\n",
    "    # Convert multiple columns\n",
    "\n",
    "except:\n",
    "    pass\n",
    "\n",
    "df = df.astype({'1N2_1':'float','1N2_N':'float','1N2_2':'float','odd_win':'float','best_odd_won':'boolean'})\n",
    "df.dtypes"
   ]
  },
  {
   "cell_type": "code",
   "execution_count": null,
   "id": "a82b43a6",
   "metadata": {},
   "outputs": [],
   "source": [
    "df.drop_duplicates().to_csv(f'20-years-odds-{timestampStr}.csv')"
   ]
  },
  {
   "cell_type": "code",
   "execution_count": null,
   "id": "2bcc5d16-6677-49d4-a86e-a587340fb03b",
   "metadata": {},
   "outputs": [],
   "source": []
  }
 ],
 "metadata": {
  "interpreter": {
   "hash": "40d3a090f54c6569ab1632332b64b2c03c39dcf918b08424e98f38b5ae0af88f"
  },
  "kernelspec": {
   "display_name": "Python 3",
   "language": "python",
   "name": "python3"
  },
  "language_info": {
   "codemirror_mode": {
    "name": "ipython",
    "version": 3
   },
   "file_extension": ".py",
   "mimetype": "text/x-python",
   "name": "python",
   "nbconvert_exporter": "python",
   "pygments_lexer": "ipython3",
   "version": "3.8.8"
  },
  "widgets": {
   "application/vnd.jupyter.widget-state+json": {
    "state": {},
    "version_major": 2,
    "version_minor": 0
   }
  }
 },
 "nbformat": 4,
 "nbformat_minor": 5
}
