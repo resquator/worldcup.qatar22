{
 "cells": [
  {
   "cell_type": "code",
   "execution_count": 1,
   "id": "7bd5653b-2499-4718-8403-f14a328b0ff1",
   "metadata": {},
   "outputs": [
    {
     "data": {
      "text/plain": [
       "'20221022182251'"
      ]
     },
     "execution_count": 1,
     "metadata": {},
     "output_type": "execute_result"
    }
   ],
   "source": [
    "# load some libraries\n",
    "import pandas as pd\n",
    "import seaborn as sns\n",
    "import matplotlib.pyplot as plt\n",
    "\n",
    "from tqdm import tqdm\n",
    "from sklearn.metrics import accuracy_score\n",
    "\n",
    "\n",
    "import numpy as np\n",
    "from sklearn.model_selection import train_test_split\n",
    "\n",
    "from sklearn.svm import SVC\n",
    "from sklearn.preprocessing import StandardScaler\n",
    "from sklearn.model_selection import train_test_split, GridSearchCV\n",
    "from sklearn.tree import DecisionTreeClassifier\n",
    "from sklearn.linear_model import LogisticRegression\n",
    "\n",
    "from sklearn.ensemble import BaggingClassifier\n",
    "from sklearn.tree import ExtraTreeClassifier\n",
    "from sklearn.pipeline import Pipeline\n",
    "\n",
    "import joblib\n",
    "\n",
    "import predictgame as pg\n",
    "from worldcuptransformers import CustomTransformer\n",
    "\n",
    "import random\n",
    "import warnings\n",
    "warnings.simplefilter(action='ignore', category=FutureWarning)\n",
    "warnings.simplefilter(\"ignore\", UserWarning)\n",
    "\n",
    "\n",
    "from datetime import datetime\n",
    "import logging\n",
    "dateTimeObj = datetime.now()\n",
    "timestampStr = dateTimeObj.strftime(\"%Y%m%d%H%M%S\")\n",
    "logging.basicConfig(filename=f'compute_wc_log/compute-{timestampStr}.log',  level=logging.DEBUG,\n",
    "    format='%(message)s', datefmt='%m/%d/%Y %I:%M:%S %p')\n",
    "timestampStr\n"
   ]
  },
  {
   "cell_type": "code",
   "execution_count": 2,
   "id": "248bddf2-9113-4da2-a4f8-70b3268d5aea",
   "metadata": {},
   "outputs": [
    {
     "data": {
      "text/html": [
       "<div>\n",
       "<style scoped>\n",
       "    .dataframe tbody tr th:only-of-type {\n",
       "        vertical-align: middle;\n",
       "    }\n",
       "\n",
       "    .dataframe tbody tr th {\n",
       "        vertical-align: top;\n",
       "    }\n",
       "\n",
       "    .dataframe thead th {\n",
       "        text-align: right;\n",
       "    }\n",
       "</style>\n",
       "<table border=\"1\" class=\"dataframe\">\n",
       "  <thead>\n",
       "    <tr style=\"text-align: right;\">\n",
       "      <th></th>\n",
       "      <th>1N2_1</th>\n",
       "      <th>1N2_N</th>\n",
       "      <th>1N2_2</th>\n",
       "      <th>home_team_rank_FIFA</th>\n",
       "      <th>away_team_rank_FIFA</th>\n",
       "      <th>season</th>\n",
       "      <th>matchday</th>\n",
       "      <th>home_team</th>\n",
       "      <th>away_team</th>\n",
       "      <th>correct_score</th>\n",
       "    </tr>\n",
       "  </thead>\n",
       "  <tbody>\n",
       "    <tr>\n",
       "      <th>game1</th>\n",
       "      <td>1.23</td>\n",
       "      <td>3.22</td>\n",
       "      <td>9.2</td>\n",
       "      <td>9.2</td>\n",
       "      <td>4</td>\n",
       "      <td>1</td>\n",
       "      <td>2022-11-29</td>\n",
       "      <td>England</td>\n",
       "      <td>Iran</td>\n",
       "      <td>-:-</td>\n",
       "    </tr>\n",
       "  </tbody>\n",
       "</table>\n",
       "</div>"
      ],
      "text/plain": [
       "      1N2_1 1N2_N 1N2_2 home_team_rank_FIFA away_team_rank_FIFA season  \\\n",
       "game1  1.23  3.22   9.2                 9.2                   4      1   \n",
       "\n",
       "         matchday home_team away_team correct_score  \n",
       "game1  2022-11-29   England      Iran           -:-  "
      ]
     },
     "execution_count": 2,
     "metadata": {},
     "output_type": "execute_result"
    }
   ],
   "source": [
    "data ={}\n",
    "data['game1']=[1.23,3.22,9.2,9.2,4,1,'2022-11-29','England','Iran','-:-']\n",
    "play=pd.DataFrame.from_dict(data).T\n",
    "play.columns = ['1N2_1','1N2_N','1N2_2','home_team_rank_FIFA','away_team_rank_FIFA','season','matchday','home_team','away_team','correct_score']\n",
    "play"
   ]
  },
  {
   "cell_type": "code",
   "execution_count": 3,
   "id": "5c5fc9f2-f1c3-40b1-ada8-1c9c97f907f3",
   "metadata": {},
   "outputs": [],
   "source": [
    "#play=pd.DataFrame(wc.iloc[m,:]).T\n",
    "#print(play)\n",
    "#load your model for further usage\n",
    "#play[['corr_score_home', 'corr_score_away']]=0\n",
    "\n",
    "g = pg.PredictGame(play)\n",
    "p = g.predict()\n",
    "t=p[0][0][7]\n",
    "#print(f'Prediction= {p}')\n",
    "\n",
    "result_proba_1N2=[]\n",
    "result_proba_12=[]\n",
    "rem = f'GAME {0+1} - {play.home_team.values[0]} Vs. {play.away_team.values[0]} - Prediction={p[0][0][4]}/{p[0][0][5]} = {np.int(p[0][0][8][0])}:{np.int(p[0][0][8][1])}'\n"
   ]
  },
  {
   "cell_type": "code",
   "execution_count": 4,
   "id": "720f11d3-48a0-4d8f-bd79-cbed26e97ecd",
   "metadata": {},
   "outputs": [
    {
     "name": "stdout",
     "output_type": "stream",
     "text": [
      "Game predicted: GAME 1 - England Vs. Iran - Prediction=0/0 = 1:0\n"
     ]
    }
   ],
   "source": [
    "print(f'Game predicted: {rem}')"
   ]
  },
  {
   "cell_type": "code",
   "execution_count": null,
   "id": "21160115-4552-4bcd-81ca-711989b1dacd",
   "metadata": {},
   "outputs": [],
   "source": []
  }
 ],
 "metadata": {
  "kernelspec": {
   "display_name": "pycaret-boost",
   "language": "python",
   "name": "pycaret"
  },
  "language_info": {
   "codemirror_mode": {
    "name": "ipython",
    "version": 3
   },
   "file_extension": ".py",
   "mimetype": "text/x-python",
   "name": "python",
   "nbconvert_exporter": "python",
   "pygments_lexer": "ipython3",
   "version": "3.8.8"
  },
  "widgets": {
   "application/vnd.jupyter.widget-state+json": {
    "state": {},
    "version_major": 2,
    "version_minor": 0
   }
  }
 },
 "nbformat": 4,
 "nbformat_minor": 5
}
